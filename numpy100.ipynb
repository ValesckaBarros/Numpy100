{
  "cells": [
    {
      "cell_type": "markdown",
      "metadata": {
        "id": "view-in-github",
        "colab_type": "text"
      },
      "source": [
        "<a href=\"https://colab.research.google.com/github/ValesckaBarros/Numpy100/blob/main/numpy100.ipynb\" target=\"_parent\"><img src=\"https://colab.research.google.com/assets/colab-badge.svg\" alt=\"Open In Colab\"/></a>"
      ]
    },
    {
      "cell_type": "markdown",
      "metadata": {
        "id": "SNO1nELu2kJ5"
      },
      "source": [
        "# 100 numpy exercises"
      ]
    },
    {
      "cell_type": "code",
      "execution_count": null,
      "metadata": {
        "id": "qX68hViZ2kJ9"
      },
      "outputs": [],
      "source": [
        "%run initialise.py"
      ]
    },
    {
      "cell_type": "markdown",
      "metadata": {
        "id": "XcyoK7Rq2kJ-"
      },
      "source": [
        "### 1. Import the numpy package under the name `np` (★☆☆)"
      ]
    },
    {
      "cell_type": "code",
      "execution_count": 1,
      "metadata": {
        "id": "7hXIBEfQ2kJ_"
      },
      "outputs": [],
      "source": [
        "import numpy as np"
      ]
    },
    {
      "cell_type": "markdown",
      "metadata": {
        "id": "vPPCK6LS2kJ_"
      },
      "source": [
        "### 2. Print the numpy version and the configuration (★☆☆)"
      ]
    },
    {
      "cell_type": "code",
      "execution_count": null,
      "metadata": {
        "id": "le2SlZlq2kJ_",
        "outputId": "9a70fb87-6606-4d06-d1df-7c0d07ef70d9"
      },
      "outputs": [
        {
          "data": {
            "text/plain": [
              "'1.26.4'"
            ]
          },
          "execution_count": 6,
          "metadata": {},
          "output_type": "execute_result"
        }
      ],
      "source": [
        "np.__version__"
      ]
    },
    {
      "cell_type": "markdown",
      "metadata": {
        "id": "-1Lsn-rW2kKA"
      },
      "source": [
        "### 3. Create a null vector of size 10 (★☆☆)\n"
      ]
    },
    {
      "cell_type": "code",
      "execution_count": null,
      "metadata": {
        "id": "3FGW9wyG2kKA",
        "outputId": "de8b6f4d-fcb9-4ce5-b861-da2764d70cb0"
      },
      "outputs": [
        {
          "name": "stdout",
          "output_type": "stream",
          "text": [
            "[0. 0. 0. 0. 0. 0. 0. 0. 0. 0.]\n"
          ]
        }
      ],
      "source": [
        "zeros10 = np.zeros(10)\n",
        "print(zeros10)"
      ]
    },
    {
      "cell_type": "markdown",
      "metadata": {
        "id": "S2_vmQaU2kKB"
      },
      "source": [
        "### 4. How to find the memory size of any array (★☆☆)\n"
      ]
    },
    {
      "cell_type": "code",
      "execution_count": null,
      "metadata": {
        "id": "9Hnw_OFM2kKB",
        "outputId": "e53f5052-057a-43f3-d489-4068fad40007"
      },
      "outputs": [
        {
          "name": "stdout",
          "output_type": "stream",
          "text": [
            "10\n",
            "8\n",
            "80 bytes\n"
          ]
        }
      ],
      "source": [
        "print(zeros10.size) # quantidade de itens no array\n",
        "print(zeros10.itemsize) # quantidade de bytes de cada item no array\n",
        "print(\"%d bytes\" % (zeros10.size * zeros10.itemsize))"
      ]
    },
    {
      "cell_type": "markdown",
      "metadata": {
        "id": "2-43YtsL2kKC"
      },
      "source": [
        "### 5. How to get the documentation of the numpy add function from the command line? (★☆☆)"
      ]
    },
    {
      "cell_type": "code",
      "execution_count": null,
      "metadata": {
        "id": "lgxkGw7j2kKC",
        "outputId": "ec9f095b-1190-4919-f750-51c904ccacd3"
      },
      "outputs": [
        {
          "name": "stdout",
          "output_type": "stream",
          "text": [
            "add(x1, x2, /, out=None, *, where=True, casting='same_kind', order='K', dtype=None, subok=True[, signature, extobj])\n",
            "\n",
            "Add arguments element-wise.\n",
            "\n",
            "Parameters\n",
            "----------\n",
            "x1, x2 : array_like\n",
            "    The arrays to be added.\n",
            "    If ``x1.shape != x2.shape``, they must be broadcastable to a common\n",
            "    shape (which becomes the shape of the output).\n",
            "out : ndarray, None, or tuple of ndarray and None, optional\n",
            "    A location into which the result is stored. If provided, it must have\n",
            "    a shape that the inputs broadcast to. If not provided or None,\n",
            "    a freshly-allocated array is returned. A tuple (possible only as a\n",
            "    keyword argument) must have length equal to the number of outputs.\n",
            "where : array_like, optional\n",
            "    This condition is broadcast over the input. At locations where the\n",
            "    condition is True, the `out` array will be set to the ufunc result.\n",
            "    Elsewhere, the `out` array will retain its original value.\n",
            "    Note that if an uninitialized `out` array is created via the default\n",
            "    ``out=None``, locations within it where the condition is False will\n",
            "    remain uninitialized.\n",
            "**kwargs\n",
            "    For other keyword-only arguments, see the\n",
            "    :ref:`ufunc docs <ufuncs.kwargs>`.\n",
            "\n",
            "Returns\n",
            "-------\n",
            "add : ndarray or scalar\n",
            "    The sum of `x1` and `x2`, element-wise.\n",
            "    This is a scalar if both `x1` and `x2` are scalars.\n",
            "\n",
            "Notes\n",
            "-----\n",
            "Equivalent to `x1` + `x2` in terms of array broadcasting.\n",
            "\n",
            "Examples\n",
            "--------\n",
            ">>> np.add(1.0, 4.0)\n",
            "5.0\n",
            ">>> x1 = np.arange(9.0).reshape((3, 3))\n",
            ">>> x2 = np.arange(3.0)\n",
            ">>> np.add(x1, x2)\n",
            "array([[  0.,   2.,   4.],\n",
            "       [  3.,   5.,   7.],\n",
            "       [  6.,   8.,  10.]])\n",
            "\n",
            "The ``+`` operator can be used as a shorthand for ``np.add`` on ndarrays.\n",
            "\n",
            ">>> x1 = np.arange(9.0).reshape((3, 3))\n",
            ">>> x2 = np.arange(3.0)\n",
            ">>> x1 + x2\n",
            "array([[ 0.,  2.,  4.],\n",
            "       [ 3.,  5.,  7.],\n",
            "       [ 6.,  8., 10.]])\n"
          ]
        }
      ],
      "source": [
        "np.info(np.add)"
      ]
    },
    {
      "cell_type": "markdown",
      "metadata": {
        "id": "x-OE7WhQ2kKC"
      },
      "source": [
        "### 6. Create a null vector of size 10 but the fifth value which is 1 (★☆☆)"
      ]
    },
    {
      "cell_type": "code",
      "execution_count": null,
      "metadata": {
        "id": "EgDD93wl2kKC",
        "outputId": "429d5110-adaf-4ab1-fdca-98798e467679"
      },
      "outputs": [
        {
          "name": "stdout",
          "output_type": "stream",
          "text": [
            "[0. 0. 0. 0. 1. 0. 0. 0. 0. 0.]\n"
          ]
        }
      ],
      "source": [
        "zeros10[4]=1\n",
        "print(zeros10)"
      ]
    },
    {
      "cell_type": "markdown",
      "metadata": {
        "id": "noIBvyBD2kKC"
      },
      "source": [
        "### 7. Create a vector with values ranging from 10 to 49 (★☆☆)"
      ]
    },
    {
      "cell_type": "code",
      "execution_count": null,
      "metadata": {
        "id": "toKR4Rm02kKC",
        "outputId": "635779c8-e644-49f2-955a-6dc792b3b0db"
      },
      "outputs": [
        {
          "name": "stdout",
          "output_type": "stream",
          "text": [
            "[10 11 12 13 14 15 16 17 18 19 20 21 22 23 24 25 26 27 28 29 30 31 32 33\n",
            " 34 35 36 37 38 39 40 41 42 43 44 45 46 47 48]\n"
          ]
        }
      ],
      "source": [
        "v = np.arange(10,49)\n",
        "print(v)"
      ]
    },
    {
      "cell_type": "markdown",
      "metadata": {
        "id": "d4v0rlZU2kKC"
      },
      "source": [
        "### 8. Reverse a vector (first element becomes last) (★☆☆)"
      ]
    },
    {
      "cell_type": "code",
      "execution_count": null,
      "metadata": {
        "id": "cST8InZC2kKC",
        "outputId": "4aec87b3-0103-4aff-eeb4-e34a0d61d4e3"
      },
      "outputs": [
        {
          "name": "stdout",
          "output_type": "stream",
          "text": [
            "[48 47 46 45 44 43 42 41 40 39 38 37 36 35 34 33 32 31 30 29 28 27 26 25\n",
            " 24 23 22 21 20 19 18 17 16 15 14 13 12 11 10]\n"
          ]
        }
      ],
      "source": [
        "print(v[::-1])"
      ]
    },
    {
      "cell_type": "markdown",
      "metadata": {
        "id": "k_yFMYMW2kKD"
      },
      "source": [
        "### 9. Create a 3x3 matrix with values ranging from 0 to 8 (★☆☆)"
      ]
    },
    {
      "cell_type": "code",
      "execution_count": null,
      "metadata": {
        "id": "1tW2gIkx2kKD",
        "outputId": "b63f03e7-73eb-4071-98a8-0ec80a6f164a"
      },
      "outputs": [
        {
          "name": "stdout",
          "output_type": "stream",
          "text": [
            "[[0 1 2]\n",
            " [3 4 5]\n",
            " [6 7 8]]\n"
          ]
        }
      ],
      "source": [
        "print(np.arange(9).reshape(3,3))"
      ]
    },
    {
      "cell_type": "markdown",
      "metadata": {
        "id": "3pbX_VG42kKD"
      },
      "source": [
        "### 10. Find indices of non-zero elements from [1,2,0,0,4,0] (★☆☆)"
      ]
    },
    {
      "cell_type": "code",
      "source": [
        "print(np.nonzero([1,2,0,0,4,0]))"
      ],
      "metadata": {
        "colab": {
          "base_uri": "https://localhost:8080/"
        },
        "id": "QZHdosvk3t2S",
        "outputId": "715f8b3b-4b74-4494-ea85-07986fc65005"
      },
      "execution_count": 2,
      "outputs": [
        {
          "output_type": "stream",
          "name": "stdout",
          "text": [
            "(array([0, 1, 4]),)\n"
          ]
        }
      ]
    },
    {
      "cell_type": "markdown",
      "metadata": {
        "id": "SPNeXSAl2kKD"
      },
      "source": [
        "### 11. Create a 3x3 identity matrix (★☆☆)"
      ]
    },
    {
      "cell_type": "code",
      "execution_count": null,
      "metadata": {
        "id": "07dR5yWR2kKD",
        "outputId": "0d228bb6-dc20-48e8-f425-0872a7116e5b"
      },
      "outputs": [
        {
          "name": "stdout",
          "output_type": "stream",
          "text": [
            "[[1. 0. 0.]\n",
            " [0. 1. 0.]\n",
            " [0. 0. 1.]]\n"
          ]
        }
      ],
      "source": [
        "eye3 = np.eye(3)\n",
        "print(eye3)"
      ]
    },
    {
      "cell_type": "markdown",
      "metadata": {
        "id": "8m0cdc6q2kKD"
      },
      "source": [
        "### 12. Create a 3x3x3 array with random values (★☆☆)"
      ]
    },
    {
      "cell_type": "code",
      "execution_count": 3,
      "metadata": {
        "colab": {
          "base_uri": "https://localhost:8080/"
        },
        "id": "y361xWVs2kKE",
        "outputId": "3919d4a8-2e59-4954-d405-ea858c0a21c3"
      },
      "outputs": [
        {
          "output_type": "stream",
          "name": "stdout",
          "text": [
            "[[[0.53472526 0.10490639 0.63096328]\n",
            "  [0.28868852 0.4881786  0.5835212 ]\n",
            "  [0.33314377 0.60076667 0.28919646]]\n",
            "\n",
            " [[0.85766039 0.58208376 0.09413353]\n",
            "  [0.47136651 0.83120768 0.67577811]\n",
            "  [0.82291082 0.94666852 0.82258281]]\n",
            "\n",
            " [[0.37285593 0.90301456 0.03355378]\n",
            "  [0.92780278 0.66377095 0.98954508]\n",
            "  [0.8299914  0.20171469 0.52687011]]]\n"
          ]
        }
      ],
      "source": [
        "m = np.random.random((3,3,3))\n",
        "print(m)"
      ]
    },
    {
      "cell_type": "markdown",
      "source": [
        "### 13. Create a 10x10 array with random values and find the minimum and maximum values (★☆☆)\n"
      ],
      "metadata": {
        "id": "VQ8hG8GO4JVr"
      }
    },
    {
      "cell_type": "code",
      "execution_count": 4,
      "metadata": {
        "colab": {
          "base_uri": "https://localhost:8080/"
        },
        "id": "hrvC4QLO2kKE",
        "outputId": "de67db83-2710-4a70-b29b-283b8cd8c909"
      },
      "outputs": [
        {
          "output_type": "stream",
          "name": "stdout",
          "text": [
            "0.01537892191183865\n",
            "0.9870407341700926\n"
          ]
        }
      ],
      "source": [
        "z = np.random.random((10,10))\n",
        "print(z.min())\n",
        "print(z.max())"
      ]
    },
    {
      "cell_type": "markdown",
      "source": [
        "### 14. Create a random vector of size 30 and find the mean value (★☆☆)\n"
      ],
      "metadata": {
        "id": "Z_yxYCDX4hVe"
      }
    },
    {
      "cell_type": "code",
      "source": [
        "z = np.random.random(30)\n",
        "print(z.mean())"
      ],
      "metadata": {
        "colab": {
          "base_uri": "https://localhost:8080/"
        },
        "id": "psbXqZ754jCK",
        "outputId": "1b5b0792-80cf-4fdc-c787-9249d660bd6c"
      },
      "execution_count": 5,
      "outputs": [
        {
          "output_type": "stream",
          "name": "stdout",
          "text": [
            "0.500355064746953\n"
          ]
        }
      ]
    },
    {
      "cell_type": "markdown",
      "source": [
        "### 15. Create a 2d array with 1 on the border and 0 inside (★☆☆)\n"
      ],
      "metadata": {
        "id": "cwKu2btc5NtS"
      }
    },
    {
      "cell_type": "code",
      "source": [
        "z = np.ones((10,10))\n",
        "z[1:-1,1:-1] = 0\n",
        "print(z)"
      ],
      "metadata": {
        "colab": {
          "base_uri": "https://localhost:8080/"
        },
        "id": "LTY5LsbQ4rLS",
        "outputId": "b70b990a-f6e4-498c-ed1b-8ae53cdb7c46"
      },
      "execution_count": 6,
      "outputs": [
        {
          "output_type": "stream",
          "name": "stdout",
          "text": [
            "[[1. 1. 1. 1. 1. 1. 1. 1. 1. 1.]\n",
            " [1. 0. 0. 0. 0. 0. 0. 0. 0. 1.]\n",
            " [1. 0. 0. 0. 0. 0. 0. 0. 0. 1.]\n",
            " [1. 0. 0. 0. 0. 0. 0. 0. 0. 1.]\n",
            " [1. 0. 0. 0. 0. 0. 0. 0. 0. 1.]\n",
            " [1. 0. 0. 0. 0. 0. 0. 0. 0. 1.]\n",
            " [1. 0. 0. 0. 0. 0. 0. 0. 0. 1.]\n",
            " [1. 0. 0. 0. 0. 0. 0. 0. 0. 1.]\n",
            " [1. 0. 0. 0. 0. 0. 0. 0. 0. 1.]\n",
            " [1. 1. 1. 1. 1. 1. 1. 1. 1. 1.]]\n"
          ]
        }
      ]
    },
    {
      "cell_type": "markdown",
      "source": [
        "### 16. How to add a border (filled with 0's) around an existing array? (★☆☆)\n"
      ],
      "metadata": {
        "id": "G6vYIt4y52I7"
      }
    },
    {
      "cell_type": "code",
      "source": [
        "x = np.zeros((10,10))\n",
        "x[1:-1,1:-1] = 1\n",
        "print(x)"
      ],
      "metadata": {
        "colab": {
          "base_uri": "https://localhost:8080/"
        },
        "id": "mT5snHmy54Es",
        "outputId": "84eb9c72-a5be-4ce8-e6b7-3449a1a8c685"
      },
      "execution_count": 11,
      "outputs": [
        {
          "output_type": "stream",
          "name": "stdout",
          "text": [
            "[[0. 0. 0. 0. 0. 0. 0. 0. 0. 0.]\n",
            " [0. 1. 1. 1. 1. 1. 1. 1. 1. 0.]\n",
            " [0. 1. 1. 1. 1. 1. 1. 1. 1. 0.]\n",
            " [0. 1. 1. 1. 1. 1. 1. 1. 1. 0.]\n",
            " [0. 1. 1. 1. 1. 1. 1. 1. 1. 0.]\n",
            " [0. 1. 1. 1. 1. 1. 1. 1. 1. 0.]\n",
            " [0. 1. 1. 1. 1. 1. 1. 1. 1. 0.]\n",
            " [0. 1. 1. 1. 1. 1. 1. 1. 1. 0.]\n",
            " [0. 1. 1. 1. 1. 1. 1. 1. 1. 0.]\n",
            " [0. 0. 0. 0. 0. 0. 0. 0. 0. 0.]]\n"
          ]
        }
      ]
    },
    {
      "cell_type": "markdown",
      "source": [
        "### 17. What is the result of the following expression? (★☆☆)"
      ],
      "metadata": {
        "id": "pKHFxiPP6sI7"
      }
    },
    {
      "cell_type": "code",
      "source": [
        "# 0 * np.nan\n",
        "# np.nan == np.nan\n",
        "# np.inf > np.nan\n",
        "# np.nan - np.nan\n",
        "# np.nan in set([np.nan])\n",
        "# 0.3 == 3 * 0.1"
      ],
      "metadata": {
        "id": "RxmjIINf6vk3"
      },
      "execution_count": null,
      "outputs": []
    },
    {
      "cell_type": "code",
      "source": [
        "print(0 * np.nan)\n",
        "print(np.nan == np.nan)\n",
        "print(np.inf > np.nan)\n",
        "print(np.nan - np.nan)\n",
        "print(np.nan in set([np.nan]))\n",
        "print(0.3 == 3 * 0.1)"
      ],
      "metadata": {
        "colab": {
          "base_uri": "https://localhost:8080/"
        },
        "id": "kvp0BsqA64iM",
        "outputId": "f7068840-8300-4c4f-ae40-6d372bc91414"
      },
      "execution_count": 13,
      "outputs": [
        {
          "output_type": "stream",
          "name": "stdout",
          "text": [
            "nan\n",
            "False\n",
            "False\n",
            "nan\n",
            "True\n",
            "False\n"
          ]
        }
      ]
    },
    {
      "cell_type": "markdown",
      "source": [
        "### 18. Create a 5x5 matrix with values 1,2,3,4 just below the diagonal (★☆☆)"
      ],
      "metadata": {
        "id": "xNwhypNB7O3U"
      }
    },
    {
      "cell_type": "code",
      "source": [
        "a = np.diag(1+np.arange(4),k=-1)\n",
        "print(a)"
      ],
      "metadata": {
        "colab": {
          "base_uri": "https://localhost:8080/"
        },
        "id": "mXeFDLxM7SVV",
        "outputId": "5e567edf-3529-4c14-a805-b62b31dd0919"
      },
      "execution_count": 14,
      "outputs": [
        {
          "output_type": "stream",
          "name": "stdout",
          "text": [
            "[[0 0 0 0 0]\n",
            " [1 0 0 0 0]\n",
            " [0 2 0 0 0]\n",
            " [0 0 3 0 0]\n",
            " [0 0 0 4 0]]\n"
          ]
        }
      ]
    },
    {
      "cell_type": "markdown",
      "source": [
        "### 19. Create a 8x8 matrix and fill it with a checkerboard pattern (★☆☆)\n"
      ],
      "metadata": {
        "id": "qv_C8Q_p8T4I"
      }
    },
    {
      "cell_type": "code",
      "source": [
        "b = np.zeros((8,8),dtype=int)\n",
        "b[1::2,::2] = 1\n",
        "b[::2,1::2] = 1\n",
        "print(b)"
      ],
      "metadata": {
        "colab": {
          "base_uri": "https://localhost:8080/"
        },
        "id": "OzHBq6jW8TiB",
        "outputId": "fcc7550f-3598-49fb-ef62-b49dfed9e618"
      },
      "execution_count": 18,
      "outputs": [
        {
          "output_type": "stream",
          "name": "stdout",
          "text": [
            "[[0 1 0 1 0 1 0 1]\n",
            " [1 0 1 0 1 0 1 0]\n",
            " [0 1 0 1 0 1 0 1]\n",
            " [1 0 1 0 1 0 1 0]\n",
            " [0 1 0 1 0 1 0 1]\n",
            " [1 0 1 0 1 0 1 0]\n",
            " [0 1 0 1 0 1 0 1]\n",
            " [1 0 1 0 1 0 1 0]]\n"
          ]
        }
      ]
    },
    {
      "cell_type": "markdown",
      "source": [
        "### 20. Consider a (6,7,8) shape array, what is the index (x,y,z) of the 100th element? (★☆☆)\n"
      ],
      "metadata": {
        "id": "zI91q92786L4"
      }
    },
    {
      "cell_type": "code",
      "source": [
        "print(np.unravel_index(99,(6,7,8)))"
      ],
      "metadata": {
        "colab": {
          "base_uri": "https://localhost:8080/"
        },
        "id": "3LUhCmxR9B4o",
        "outputId": "ee677bf2-782d-40d5-ba7b-9a353f2d7146"
      },
      "execution_count": 19,
      "outputs": [
        {
          "output_type": "stream",
          "name": "stdout",
          "text": [
            "(1, 5, 3)\n"
          ]
        }
      ]
    },
    {
      "cell_type": "markdown",
      "source": [
        "### 21. Create a checkerboard 8x8 matrix using the tile function (★☆☆)\n"
      ],
      "metadata": {
        "id": "_sDglqMB9jBo"
      }
    },
    {
      "cell_type": "code",
      "source": [
        "checkerboard = np.tile( np.array([[0,1],[1,0]]), (4,4))\n",
        "print(checkerboard)"
      ],
      "metadata": {
        "colab": {
          "base_uri": "https://localhost:8080/"
        },
        "id": "tJNfCkjv9kii",
        "outputId": "122ce090-67d2-48de-f2b7-bb7f4a8f526b"
      },
      "execution_count": 20,
      "outputs": [
        {
          "output_type": "stream",
          "name": "stdout",
          "text": [
            "[[0 1 0 1 0 1 0 1]\n",
            " [1 0 1 0 1 0 1 0]\n",
            " [0 1 0 1 0 1 0 1]\n",
            " [1 0 1 0 1 0 1 0]\n",
            " [0 1 0 1 0 1 0 1]\n",
            " [1 0 1 0 1 0 1 0]\n",
            " [0 1 0 1 0 1 0 1]\n",
            " [1 0 1 0 1 0 1 0]]\n"
          ]
        }
      ]
    }
  ],
  "metadata": {
    "kernelspec": {
      "display_name": "Python 3",
      "language": "python",
      "name": "python3"
    },
    "language_info": {
      "codemirror_mode": {
        "name": "ipython",
        "version": 3
      },
      "file_extension": ".py",
      "mimetype": "text/x-python",
      "name": "python",
      "nbconvert_exporter": "python",
      "pygments_lexer": "ipython3",
      "version": "3.12.3"
    },
    "colab": {
      "provenance": [],
      "toc_visible": true,
      "include_colab_link": true
    }
  },
  "nbformat": 4,
  "nbformat_minor": 0
}